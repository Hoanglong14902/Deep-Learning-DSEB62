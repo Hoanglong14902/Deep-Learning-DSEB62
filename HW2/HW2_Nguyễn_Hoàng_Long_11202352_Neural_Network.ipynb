{
  "nbformat": 4,
  "nbformat_minor": 0,
  "metadata": {
    "colab": {
      "provenance": []
    },
    "kernelspec": {
      "name": "python3",
      "display_name": "Python 3"
    },
    "language_info": {
      "name": "python"
    }
  },
  "cells": [
    {
      "cell_type": "markdown",
      "source": [
        "##**Bài 1:** Cho bài toán XOR\n",
        "- Implement thuật toán neural network để giải bài toán dùng Pytorch"
      ],
      "metadata": {
        "id": "0QwCW4bo3gix"
      }
    },
    {
      "cell_type": "code",
      "source": [
        "import torch\n",
        "import torch.optim as optim\n",
        "\n",
        "# Hàm kích hoạt sigmoid\n",
        "def sigmoid(x):\n",
        "    return 1 / (1 + torch.exp(-x))\n",
        "\n",
        "# Lớp neural network\n",
        "class NeuralNetwork:\n",
        "    def __init__(self, layers):\n",
        "        self.layers = layers\n",
        "        self.weights = [torch.randn(layers[i], layers[i+1], requires_grad=True) for i in range(len(layers) - 1)]\n",
        "        self.biases = [torch.zeros(1, layers[i+1], requires_grad=True) for i in range(len(layers) - 1)]\n",
        "\n",
        "    def forward(self, x):\n",
        "        for i in range(len(self.layers) - 2):\n",
        "            x = sigmoid(torch.mm(x, self.weights[i]) + self.biases[i])\n",
        "        x = torch.mm(x, self.weights[-1]) + self.biases[-1]\n",
        "        return x\n",
        "\n",
        "# Hàm loss\n",
        "def bce_with_logits(logits, labels):\n",
        "    return torch.mean(torch.clamp(logits, 0) - logits * labels + torch.log(1 + torch.exp(-torch.abs(logits))))"
      ],
      "metadata": {
        "id": "QjNJo3ABlT4S"
      },
      "execution_count": 4,
      "outputs": []
    },
    {
      "cell_type": "code",
      "source": [
        "# Dữ liệu mẫu XOR\n",
        "X = torch.tensor([[0, 0], [0, 1], [1, 0], [1, 1]], dtype=torch.float32)\n",
        "y = torch.tensor([[0], [1], [1], [0]], dtype=torch.float32)\n",
        "\n",
        "# Tạo mạng neural network với 2 lớp ẩn và 1 lớp đầu ra\n",
        "model = NeuralNetwork([2, 2, 1])\n",
        "\n",
        "# Optimizer\n",
        "optimizer = optim.SGD([{'params': model.weights, 'lr': 0.1}, {'params': model.biases, 'lr': 0.1}], lr=0.1)\n",
        "\n",
        "# Huấn luyện mô hình\n",
        "for epoch in range(10000):\n",
        "    # Forward pass\n",
        "    outputs = model.forward(X)\n",
        "\n",
        "    # Tính loss\n",
        "    loss = bce_with_logits(outputs, y)\n",
        "\n",
        "    # Backpropagation và cập nhật trọng số\n",
        "    optimizer.zero_grad()\n",
        "    loss.backward()\n",
        "\n",
        "    # Cập nhật trọng số và bias\n",
        "    for param in model.weights + model.biases:\n",
        "        param.data -= 0.1 * param.grad\n",
        "\n",
        "    if epoch % 1000 == 0:\n",
        "        print(f'Epoch [{epoch + 1}/10000], Loss: {loss.item()}')\n",
        "\n",
        "# Dự đoán\n",
        "with torch.no_grad():\n",
        "    predictions = model.forward(X)\n",
        "    predictions = (predictions > 0).float()  # Sử dụng ngưỡng 0 để phân loại\n",
        "\n",
        "print(\"Predictions:\")\n",
        "print(predictions)"
      ],
      "metadata": {
        "colab": {
          "base_uri": "https://localhost:8080/"
        },
        "id": "cCfRGdG1xLU9",
        "outputId": "9ccbad5d-4599-48ed-d8db-757af2653491"
      },
      "execution_count": 5,
      "outputs": [
        {
          "output_type": "stream",
          "name": "stdout",
          "text": [
            "Epoch [1/10000], Loss: 0.7326961755752563\n",
            "Epoch [1001/10000], Loss: 0.6925710439682007\n",
            "Epoch [2001/10000], Loss: 0.6873793601989746\n",
            "Epoch [3001/10000], Loss: 0.6347977519035339\n",
            "Epoch [4001/10000], Loss: 0.5399348139762878\n",
            "Epoch [5001/10000], Loss: 0.47398367524147034\n",
            "Epoch [6001/10000], Loss: 0.261616587638855\n",
            "Epoch [7001/10000], Loss: 0.10008591413497925\n",
            "Epoch [8001/10000], Loss: 0.05427705496549606\n",
            "Epoch [9001/10000], Loss: 0.036203984171152115\n",
            "Predictions:\n",
            "tensor([[0.],\n",
            "        [1.],\n",
            "        [1.],\n",
            "        [0.]])\n"
          ]
        }
      ]
    },
    {
      "cell_type": "markdown",
      "source": [
        "##**Bài 2:**\n",
        "Cho dataset MNIST\n",
        "- Implement thuật toán neural network với dữ liệu trên sử dụng Pytorch\n",
        "- Chỉnh learning rate, vẽ đồ thị loss tương ứng.\n",
        "- Chia tập train/test tỉ lệ 80/20, tính các chỉ số MSE, RSME, MAE, MAPE trên tập test.\n"
      ],
      "metadata": {
        "id": "Y7dd_tkB4SEb"
      }
    },
    {
      "cell_type": "code",
      "source": [
        "import torch\n",
        "import torch.nn as nn\n",
        "import torch.optim as optim\n",
        "import torchvision\n",
        "import torchvision.transforms as transforms\n",
        "import matplotlib.pyplot as plt\n",
        "\n",
        "# Tải dữ liệu MNIST\n",
        "transform = transforms.Compose([transforms.ToTensor(), transforms.Normalize((0.5,), (0.5,))])\n",
        "trainset = torchvision.datasets.MNIST(root='./data', train=True, download=True, transform=transform)\n",
        "testset = torchvision.datasets.MNIST(root='./data', train=False, download=True, transform=transform)\n",
        "\n",
        "# Chia tập train và test (80/20)\n",
        "trainloader = torch.utils.data.DataLoader(trainset, batch_size=4, shuffle=True)\n",
        "testloader = torch.utils.data.DataLoader(testset, batch_size=4, shuffle=False)\n",
        "\n",
        "# Định nghĩa mạng neural network\n",
        "class Net(nn.Module):\n",
        "    def __init__(self):\n",
        "        super(Net, self).__init__()\n",
        "        self.fc1 = nn.Linear(28*28, 128)\n",
        "        self.fc2 = nn.Linear(128, 64)\n",
        "        self.fc3 = nn.Linear(64, 10)\n",
        "\n",
        "    def forward(self, x):\n",
        "        x = x.view(-1, 28*28)\n",
        "        x = torch.relu(self.fc1(x))\n",
        "        x = torch.relu(self.fc2(x))\n",
        "        x = self.fc3(x)\n",
        "        return x\n",
        "\n",
        "net = Net()\n",
        "\n",
        "# Định nghĩa hàm mất mát và bộ tối ưu hóa\n",
        "criterion = nn.CrossEntropyLoss()\n",
        "optimizer = optim.SGD(net.parameters(), lr=0.001, momentum=0.9)\n",
        "\n",
        "# Huấn luyện mạng\n",
        "loss_values = []\n",
        "for epoch in range(5):  # Chạy 5 epochs để minh họa\n",
        "    running_loss = 0.0\n",
        "    for i, data in enumerate(trainloader, 0):\n",
        "        inputs, labels = data\n",
        "        optimizer.zero_grad()\n",
        "        outputs = net(inputs)\n",
        "        loss = criterion(outputs, labels)\n",
        "        loss.backward()\n",
        "        optimizer.step()\n",
        "        running_loss += loss.item()\n",
        "    loss_values.append(running_loss)\n",
        "\n",
        "# Vẽ đồ thị loss\n",
        "plt.plot(loss_values)\n",
        "plt.xlabel('Epochs')\n",
        "plt.ylabel('Loss')\n",
        "plt.show()\n",
        "\n",
        "# Đánh giá mạng trên tập test\n",
        "correct = 0\n",
        "total = 0\n",
        "with torch.no_grad():\n",
        "    for data in testloader:\n",
        "        images, labels = data\n",
        "        outputs = net(images)\n",
        "        _, predicted = torch.max(outputs.data, 1)\n",
        "        total += labels.size(0)\n",
        "        correct += (predicted == labels).sum().item()\n",
        "\n"
      ],
      "metadata": {
        "colab": {
          "base_uri": "https://localhost:8080/",
          "height": 449
        },
        "id": "HuqIjZeksJi8",
        "outputId": "b25f11fd-e572-4b50-b0dc-a661184f43b0"
      },
      "execution_count": 6,
      "outputs": [
        {
          "output_type": "display_data",
          "data": {
            "text/plain": [
              "<Figure size 640x480 with 1 Axes>"
            ],
            "image/png": "[encoded data removed]"
          },
          "metadata": {}
        }
      ]
    },
    {
      "cell_type": "code",
      "source": [
        "from sklearn.metrics import accuracy_score, recall_score, f1_score\n",
        "import numpy as np\n",
        "\n",
        "true_labels = []\n",
        "predicted_labels = []\n",
        "\n",
        "with torch.no_grad():\n",
        "    for data in testloader:\n",
        "        images, labels = data\n",
        "        outputs = net(images)\n",
        "        _, predicted = torch.max(outputs.data, 1)\n",
        "        true_labels.extend(labels.numpy())\n",
        "        predicted_labels.extend(predicted.numpy())\n",
        "\n",
        "true_labels = np.array(true_labels)\n",
        "predicted_labels = np.array(predicted_labels)\n",
        "\n",
        "accuracy = accuracy_score(true_labels, predicted_labels)\n",
        "recall = recall_score(true_labels, predicted_labels, average='weighted')\n",
        "f1 = f1_score(true_labels, predicted_labels, average='weighted')\n",
        "\n",
        "print('Accuracy on test data: {:.2%}'.format(accuracy))\n",
        "print('Weighted Recall on test data: {:.2%}'.format(recall))\n",
        "print('Weighted F1-score on test data: {:.2%}'.format(f1))"
      ],
      "metadata": {
        "colab": {
          "base_uri": "https://localhost:8080/"
        },
        "id": "9f_nsOiBmzcq",
        "outputId": "52c4a900-e4df-4301-ac79-b975e6d9849c"
      },
      "execution_count": 7,
      "outputs": [
        {
          "output_type": "stream",
          "name": "stdout",
          "text": [
            "Accuracy on test data: 96.78%\n",
            "Weighted Recall on test data: 96.78%\n",
            "Weighted F1-score on test data: 96.78%\n"
          ]
        }
      ]
    },
    {
      "cell_type": "markdown",
      "source": [
        "##**Bài 3:**\n",
        "Tại sao hàm softmax lại dùng exponential function (e) mà không phải số khác như 2, 3 hoặc 4\n"
      ],
      "metadata": {
        "id": "I37l8XBgJPfH"
      }
    },
    {
      "cell_type": "markdown",
      "source": [
        "Hàm softmax sử dụng hàm exponential function (e) vì nó có một số tính chất phù hợp với việc tạo ra phân phối xác suất. Cụ thể, hàm exponential function có các tính chất sau:\n",
        "\n",
        "- Số dương: Giá trị của hàm exponential function luôn là dương. Điều này đảm bảo rằng các giá trị đầu ra của hàm softmax cũng là dương, phù hợp với phân phối xác suất.\n",
        "- Tăng nhanh: Giá trị của hàm exponential function tăng nhanh khi giá trị của đối số tăng. Điều này đảm bảo rằng các giá trị đầu ra của hàm softmax có thể phân biệt được, phù hợp với việc phân loại các đối tượng thành các lớp khác nhau.\n",
        "- Tổng bằng 1: Tổng của các giá trị của hàm exponential function với cùng một đối số bằng 1. Điều này đảm bảo rằng tổng của các giá trị đầu ra của hàm softmax bằng 1, phù hợp với phân phối xác suất.\n",
        "\n",
        "Nếu sử dụng một số khác như 2, 3 hoặc 4 thay vì e cho hàm softmax, các tính chất quan trọng này sẽ không được đảm bảo, và việc sử dụng hàm softmax sẽ không còn phù hợp cho bài toán phân phối xác suất."
      ],
      "metadata": {
        "id": "yCy4mX9et32r"
      }
    }
  ]
}